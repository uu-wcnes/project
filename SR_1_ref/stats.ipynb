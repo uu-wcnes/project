{
 "cells": [
  {
   "cell_type": "markdown",
   "id": "19d5848d-ecf5-424a-a631-6409a2fdcb5f",
   "metadata": {
    "tags": []
   },
   "source": [
    "# Result Summary - Status Reporting 1 - Ref"
   ]
  },
  {
   "cell_type": "markdown",
   "id": "3bc11019-7d53-4374-8796-dfb6376cefc9",
   "metadata": {
    "tags": []
   },
   "source": [
    "***\n",
    "**Delay**\n",
    "<br>62.3s\n",
    "<br>**Reliability**\n",
    "<br>92.2%\n",
    "<br>**Energy Consumption**\n",
    "<br>804.8 mC\n",
    "<br>40.0 mW\n",
    "***\n",
    "The calculations are based on 10k data.\n",
    "Considering the large file size, the power profiler data upload to the GitHub repo is part of the raw file (50M, for 17s time duration).\n",
    "You can do the anlaysis again with your analysis code and check the performance metrics."
   ]
  },
  {
   "cell_type": "code",
   "execution_count": 1,
   "id": "f9a7ef4f-2b03-4810-a21b-ddf69c63c56a",
   "metadata": {},
   "outputs": [],
   "source": [
    "from io import StringIO\n",
    "\n",
    "import matplotlib.pyplot as plt\n",
    "import numpy as np\n",
    "import pandas as pd\n",
    "from numpy import NaN\n",
    "from pylab import rcParams\n",
    "from functions import *\n",
    "\n",
    "rcParams[\"figure.figsize\"] = 16, 4\n",
    "\n",
    "PACKET_LEN = 32  # (in Bytes) packet payload length defined by the transmitter\n",
    "MAX_SEQ = 256 # (decimal) maximum seq number defined by the length of the seq\n",
    "NO_PACKET = int(np.ceil(10*1024/PACKET_LEN))"
   ]
  },
  {
   "cell_type": "code",
   "execution_count": 2,
   "id": "5a8c9ad5-7316-42f9-9f7a-9cdf365a6241",
   "metadata": {},
   "outputs": [
    {
     "data": {
      "text/html": [
       "<div>\n",
       "<style scoped>\n",
       "    .dataframe tbody tr th:only-of-type {\n",
       "        vertical-align: middle;\n",
       "    }\n",
       "\n",
       "    .dataframe tbody tr th {\n",
       "        vertical-align: top;\n",
       "    }\n",
       "\n",
       "    .dataframe thead th {\n",
       "        text-align: right;\n",
       "    }\n",
       "</style>\n",
       "<table border=\"1\" class=\"dataframe\">\n",
       "  <thead>\n",
       "    <tr style=\"text-align: right;\">\n",
       "      <th></th>\n",
       "      <th>seq</th>\n",
       "      <th>time_tx</th>\n",
       "      <th>time_rx</th>\n",
       "      <th>payload</th>\n",
       "      <th>rssi</th>\n",
       "    </tr>\n",
       "  </thead>\n",
       "  <tbody>\n",
       "    <tr>\n",
       "      <th>0</th>\n",
       "      <td>0</td>\n",
       "      <td>15129</td>\n",
       "      <td>56715536</td>\n",
       "      <td>2f c2 39 44 d3 16 7d b8 b7 aa 01 6c db 7e c5 6...</td>\n",
       "      <td>-52</td>\n",
       "    </tr>\n",
       "    <tr>\n",
       "      <th>1</th>\n",
       "      <td>1</td>\n",
       "      <td>27295</td>\n",
       "      <td>56727225</td>\n",
       "      <td>3c 6b ce d5 30 cf e2 d9 64 73 36 1d d8 57 ca a...</td>\n",
       "      <td>-51</td>\n",
       "    </tr>\n",
       "    <tr>\n",
       "      <th>2</th>\n",
       "      <td>3</td>\n",
       "      <td>51710</td>\n",
       "      <td>56752617</td>\n",
       "      <td>56 bd f8 f7 ea 41 ac 1b be 05 a0 7f d2 09 d4 2...</td>\n",
       "      <td>-52</td>\n",
       "    </tr>\n",
       "    <tr>\n",
       "      <th>3</th>\n",
       "      <td>5</td>\n",
       "      <td>76125</td>\n",
       "      <td>56776055</td>\n",
       "      <td>70 0f 22 19 a4 b3 76 5d 18 97 0a e1 cc bb de a...</td>\n",
       "      <td>-51</td>\n",
       "    </tr>\n",
       "    <tr>\n",
       "      <th>4</th>\n",
       "      <td>6</td>\n",
       "      <td>88332</td>\n",
       "      <td>56788751</td>\n",
       "      <td>7d b8 b7 aa 01 6c db 7e c5 60 3f 92 c9 94 e3 e...</td>\n",
       "      <td>-51</td>\n",
       "    </tr>\n",
       "    <tr>\n",
       "      <th>5</th>\n",
       "      <td>7</td>\n",
       "      <td>100540</td>\n",
       "      <td>56800470</td>\n",
       "      <td>8a 61 4c 3b 5e 25 40 9f 72 29 74 43 c6 6d e8 2...</td>\n",
       "      <td>-50</td>\n",
       "    </tr>\n",
       "    <tr>\n",
       "      <th>6</th>\n",
       "      <td>8</td>\n",
       "      <td>112747</td>\n",
       "      <td>56812189</td>\n",
       "      <td>97 0a e1 cc bb de a5 c0 1f f2 a9 f4 c3 46 ed 6...</td>\n",
       "      <td>-50</td>\n",
       "    </tr>\n",
       "    <tr>\n",
       "      <th>7</th>\n",
       "      <td>9</td>\n",
       "      <td>124954</td>\n",
       "      <td>56824885</td>\n",
       "      <td>a4 b3 76 5d 18 97 0a e1 cc bb de a5 c0 1f f2 a...</td>\n",
       "      <td>-49</td>\n",
       "    </tr>\n",
       "    <tr>\n",
       "      <th>8</th>\n",
       "      <td>10</td>\n",
       "      <td>137162</td>\n",
       "      <td>56838557</td>\n",
       "      <td>b1 5c 0b ee 75 50 6f 02 79 84 13 56 bd f8 f7 e...</td>\n",
       "      <td>-50</td>\n",
       "    </tr>\n",
       "    <tr>\n",
       "      <th>9</th>\n",
       "      <td>11</td>\n",
       "      <td>149369</td>\n",
       "      <td>56847840</td>\n",
       "      <td>be 05 a0 7f d2 09 d4 23 26 4d 48 07 ba d1 fc 2...</td>\n",
       "      <td>-50</td>\n",
       "    </tr>\n",
       "  </tbody>\n",
       "</table>\n",
       "</div>"
      ],
      "text/plain": [
       "   seq  time_tx   time_rx                                            payload  \\\n",
       "0    0    15129  56715536  2f c2 39 44 d3 16 7d b8 b7 aa 01 6c db 7e c5 6...   \n",
       "1    1    27295  56727225  3c 6b ce d5 30 cf e2 d9 64 73 36 1d d8 57 ca a...   \n",
       "2    3    51710  56752617  56 bd f8 f7 ea 41 ac 1b be 05 a0 7f d2 09 d4 2...   \n",
       "3    5    76125  56776055  70 0f 22 19 a4 b3 76 5d 18 97 0a e1 cc bb de a...   \n",
       "4    6    88332  56788751  7d b8 b7 aa 01 6c db 7e c5 60 3f 92 c9 94 e3 e...   \n",
       "5    7   100540  56800470  8a 61 4c 3b 5e 25 40 9f 72 29 74 43 c6 6d e8 2...   \n",
       "6    8   112747  56812189  97 0a e1 cc bb de a5 c0 1f f2 a9 f4 c3 46 ed 6...   \n",
       "7    9   124954  56824885  a4 b3 76 5d 18 97 0a e1 cc bb de a5 c0 1f f2 a...   \n",
       "8   10   137162  56838557  b1 5c 0b ee 75 50 6f 02 79 84 13 56 bd f8 f7 e...   \n",
       "9   11   149369  56847840  be 05 a0 7f d2 09 d4 23 26 4d 48 07 ba d1 fc 2...   \n",
       "\n",
       "   rssi  \n",
       "0   -52  \n",
       "1   -51  \n",
       "2   -52  \n",
       "3   -51  \n",
       "4   -51  \n",
       "5   -50  \n",
       "6   -50  \n",
       "7   -49  \n",
       "8   -50  \n",
       "9   -50  "
      ]
     },
     "execution_count": 2,
     "metadata": {},
     "output_type": "execute_result"
    }
   ],
   "source": [
    "# define the file name\n",
    "filename = \"log\"\n",
    "# import file to jupyter notebook\n",
    "df = readfile(\"./\" + filename + \".csv\")\n",
    "\n",
    "# check the imported data first 10 lines\n",
    "df.head(10)"
   ]
  },
  {
   "cell_type": "code",
   "execution_count": 3,
   "id": "ecd9b183-ae13-49ab-b8ea-3253bdb7e46e",
   "metadata": {},
   "outputs": [],
   "source": [
    "# replace the resettable seq number to unresettable, for the purpose of reliability calculation\n",
    "test = replace_seq(df.copy(), MAX_SEQ=256)\n",
    "test.rename(columns = {'seq':'old_seq', 'new_seq':'seq'}, inplace = True)"
   ]
  },
  {
   "cell_type": "code",
   "execution_count": 4,
   "id": "7514f836-5db7-42f3-94e0-c8936951a6e4",
   "metadata": {},
   "outputs": [],
   "source": [
    "file_end_index = test.index[test.seq == test.seq[0] + NO_PACKET][0]\n",
    "test = test.iloc[:file_end_index,:]"
   ]
  },
  {
   "cell_type": "markdown",
   "id": "f56b9669-b762-4e66-94a4-57012ff1bfa4",
   "metadata": {
    "tags": []
   },
   "source": [
    "# Delay"
   ]
  },
  {
   "cell_type": "code",
   "execution_count": 5,
   "id": "da7d9cb7-e650-46a2-ae5f-45497f73d8d6",
   "metadata": {},
   "outputs": [
    {
     "name": "stdout",
     "output_type": "stream",
     "text": [
      "The time it takes to transfer the file is : 3895118 (ticks with rtimer).\n",
      "The time it takes to transfer the file is : 62.321888 (seconds with rtimer).\n"
     ]
    }
   ],
   "source": [
    "# compute the file delay\n",
    "file_delay = test.time_rx[len(test) - 1] - test.time_rx[0]\n",
    "print(f\"The time it takes to transfer the file is : {file_delay} (ticks with rtimer).\")\n",
    "# RTIMER_TIMER at 62500Hz. Generates 1 tick per exactly 16 usecs,\n",
    "print(f\"The time it takes to transfer the file is : {file_delay/62500} (seconds with rtimer).\")"
   ]
  },
  {
   "cell_type": "markdown",
   "id": "92c55b70-644c-421b-a37f-281f2c518ee2",
   "metadata": {},
   "source": [
    "# Reliability"
   ]
  },
  {
   "cell_type": "code",
   "execution_count": 6,
   "id": "84a607d3-8603-4ec5-9733-bcd83bd2d914",
   "metadata": {},
   "outputs": [
    {
     "name": "stdout",
     "output_type": "stream",
     "text": [
      "320\n",
      "     seq bit_errors\n",
      "0      0        [0]\n",
      "1      1        [0]\n",
      "2      2         []\n",
      "3      3        [0]\n",
      "4      4         []\n",
      "..   ...        ...\n",
      "315  315        [0]\n",
      "316  316        [0]\n",
      "317  317        [0]\n",
      "318  318        [0]\n",
      "319  319        [0]\n",
      "\n",
      "[320 rows x 2 columns]\n",
      "Bit reliability: 0.921875\n"
     ]
    }
   ],
   "source": [
    "# compute the BER for all received packets\n",
    "ber, error = compute_ber(test, PACKET_LEN=32, MAX_SEQ=MAX_SEQ)\n",
    "print(f\"Bit reliability: {1-ber}\")"
   ]
  },
  {
   "cell_type": "markdown",
   "id": "177bf531-df97-4dbb-94a6-c5e703dc0d42",
   "metadata": {},
   "source": [
    "# Energy Consumption"
   ]
  },
  {
   "cell_type": "code",
   "execution_count": 8,
   "id": "94a77891-f93d-4b67-81bd-fa9b02b211d6",
   "metadata": {},
   "outputs": [],
   "source": [
    "# load ppk data for the transmitter\n",
    "energy_tx = pd.read_csv(\"./ppk.csv\")\n",
    "\n",
    "# check the imported data first 10 lines\n",
    "energy_tx.head(10)\n",
    "\n",
    "# discard the board initiation status\n",
    "tmp = energy_tx[energy_tx['Current(uA)'] > 20e3].index\n",
    "energy_tx = energy_tx.iloc[tmp[0]:,:]"
   ]
  },
  {
   "cell_type": "code",
   "execution_count": 9,
   "id": "50c2d65a-230c-4a88-b154-6fd349d724d4",
   "metadata": {},
   "outputs": [
    {
     "name": "stdout",
     "output_type": "stream",
     "text": [
      "The total charge (current*time) [mC]: 804.8125771118206 \n",
      "The total energy consumption is [mW]: 39.956474923886844\n"
     ]
    }
   ],
   "source": [
    "# the voltage (controlled by the PPK2, in the example log we set it as 3000 mV)\n",
    "voltage = 3000 / 1e3  # mV to V\n",
    "\n",
    "# the power consumption\n",
    "average_current = energy_tx.iloc[:, 1].mean() / 1e6  # mA to A\n",
    "time = (energy_tx.iloc[-1, 0] - energy_tx.iloc[0, 0]) / 1e3  # ms to S\n",
    "charge = average_current * time # unit is C\n",
    "charge = charge * (len(test)/len(df)) # only consider 10k data\n",
    "power = average_current * voltage\n",
    "\n",
    "print(\n",
    "    f\"The total charge (current*time) [mC]: {charge*1e3} \\nThe total energy consumption is [mW]: {power*1e3}\"\n",
    ")"
   ]
  },
  {
   "cell_type": "code",
   "execution_count": 10,
   "id": "98a163ae-85ee-4159-8f47-88eb40b068f8",
   "metadata": {},
   "outputs": [
    {
     "data": {
      "image/png": "[encoded data removed]",
      "text/plain": [
       "<Figure size 1152x288 with 1 Axes>"
      ]
     },
     "metadata": {
      "needs_background": "light"
     },
     "output_type": "display_data"
    }
   ],
   "source": [
    "# the current log for three transmissions\n",
    "plt.plot(energy_tx.iloc[tmp[0]:int(tmp[0]+1e5), 1], color=\"black\")\n",
    "\n",
    "plt.xlabel(\"Time [ms]\", fontsize=16)\n",
    "plt.ylabel(\"Current (uA)\", fontsize=16)\n",
    "plt.grid()"
   ]
  },
  {
   "cell_type": "code",
   "execution_count": 11,
   "id": "4c7fef3f-b8c1-48dd-8706-6195f82daac5",
   "metadata": {},
   "outputs": [],
   "source": [
    "energy_tx.iloc[:int(17e5)].to_csv(\"ppk-17s.csv\")"
   ]
  },
  {
   "cell_type": "code",
   "execution_count": null,
   "id": "d3d3a259-6543-4e7b-8c38-503cee6a3859",
   "metadata": {},
   "outputs": [],
   "source": []
  }
 ],
 "metadata": {
  "kernelspec": {
   "display_name": "Python 3 (ipykernel)",
   "language": "python",
   "name": "python3"
  },
  "language_info": {
   "codemirror_mode": {
    "name": "ipython",
    "version": 3
   },
   "file_extension": ".py",
   "mimetype": "text/x-python",
   "name": "python",
   "nbconvert_exporter": "python",
   "pygments_lexer": "ipython3",
   "version": "3.9.9"
  }
 },
 "nbformat": 4,
 "nbformat_minor": 5
}
